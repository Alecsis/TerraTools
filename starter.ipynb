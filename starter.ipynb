{
 "cells": [
  {
   "cell_type": "markdown",
   "metadata": {},
   "source": [
    "# Terra boilerplate and smart contracts handlers\n",
    "\n",
    "- First we import all Terra related structures from the sdk and some other packages (`chalk` allows colored console output)\n",
    "- Next, bind the notebook with local terra (first you need to run it with `docker-compose up` in LocalTerra repository). We recover some default account and give them some names.\n",
    "- Finally, we wrap some SDK functions into more meaningful code\n",
    "\n",
    "TODO: better fees control. For the moment fees are hardcoded but it's enough to upload contracts on LocalTerra.\n"
   ]
  },
  {
   "cell_type": "code",
   "execution_count": 13,
   "metadata": {},
   "outputs": [],
   "source": [
    "from terra_sdk_wrapper.common_sdk import *"
   ]
  },
  {
   "cell_type": "markdown",
   "metadata": {},
   "source": [
    "# Contract abstraction and messages declaration\n",
    "\n",
    "This is my way of abstracting contracts in a framework way. Every contract should inherit the default `Contract` class that implements `instantiate`, `query`, and `execute` methods. \n",
    "\n",
    "Children class must implement messages wrapper. For example:\n",
    "\n",
    "```py\n",
    "class CW20(Contract):\n",
    "    def __init__(self, name: str=\"cw20\") -> None:\n",
    "        self.name = name\n",
    "\n",
    "    def instantiate_msg(name: str, symbol: str, decimals: int, initial_balances = [], mint = None):\n",
    "        return {\n",
    "            \"decimals\": decimals,\n",
    "            \"name\": name,\n",
    "            \"initial_balances\": initial_balances,\n",
    "            \"symbol\": symbol,\n",
    "            \"mint\": mint,\n",
    "        }\n",
    "```\n",
    "\n",
    "The contract will then be called with the following way:\n",
    "\n",
    "```py\n",
    "cw20 = CW20()\n",
    "cw20_init_msg = AnchorToken.instantiate_msg('bsol', 'BSOL', 6, anchor_reward.address, [], {'minter': deployer.key.acc_address})\n",
    "res = cw20.instantiate(deployer, cw20_code_id, cw20_init_msg)\n",
    "```"
   ]
  },
  {
   "cell_type": "code",
   "execution_count": 14,
   "metadata": {},
   "outputs": [],
   "source": [
    "from terra_sdk_wrapper.classes.contract import Contract\n",
    "from terra_sdk_wrapper.classes.cw20 import CW20"
   ]
  },
  {
   "cell_type": "markdown",
   "metadata": {},
   "source": [
    "# Instantiation and interaction\n",
    "\n",
    "Here we can finally play with the contracts.\n",
    "\n",
    "- First, store the `wasm` on the blockchain\n",
    "- Second, instantiate the classes\n",
    "- Third, instantiate the contracts and interact with them"
   ]
  },
  {
   "cell_type": "code",
   "execution_count": null,
   "metadata": {},
   "outputs": [],
   "source": [
    "#============================ Store contracts ============================#\n",
    "\n",
    "wormhole_token_code_id = store_contract(terra, deployer, 'terraswap_token')\n",
    "anchor_reward_code_id = store_contract(terra, deployer, 'anchor_bsol_reward')\n",
    "anchor_token_code_id = store_contract(terra, deployer, 'anchor_bsol_token')\n",
    "anchor_converter_code_id = store_contract(terra, deployer, 'anchor_bsol_converter')\n",
    "\n",
    "#======================== Create contract classes ========================#\n",
    "\n",
    "wormhole_token = WormholeToken(\"WormholeToken\")\n",
    "anchor_reward = AnchorReward(\"AnchorReward\")\n",
    "anchor_token = AnchorToken(\"AnchorToken\")\n",
    "anchor_converter = AnchorConverter(\"AnchorConverter\")\n",
    "\n",
    "#============================ Init contracts ============================#\n",
    "\n",
    "anchor_reward_init_msg = AnchorReward.instantiate_msg(deployer.key.acc_address, 'uusd')\n",
    "res = anchor_reward.instantiate(deployer, anchor_reward_code_id, anchor_reward_init_msg)\n",
    "anchor_token_init_msg = AnchorToken.instantiate_msg('bsol', 'BSOL', 6, anchor_reward.address, [], {'minter': deployer.key.acc_address})\n",
    "res = anchor_token.instantiate(deployer, anchor_token_code_id, anchor_token_init_msg)\n",
    "res = anchor_reward.execute(deployer, AnchorReward.execute_post_initialize_msg(anchor_token.address))\n"
   ]
  }
 ],
 "metadata": {
  "interpreter": {
   "hash": "b0fa6594d8f4cbf19f97940f81e996739fb7646882a419484c72d19e05852a7e"
  },
  "kernelspec": {
   "display_name": "Python 3.9.9 64-bit",
   "language": "python",
   "name": "python3"
  },
  "language_info": {
   "codemirror_mode": {
    "name": "ipython",
    "version": 3
   },
   "file_extension": ".py",
   "mimetype": "text/x-python",
   "name": "python",
   "nbconvert_exporter": "python",
   "pygments_lexer": "ipython3",
   "version": "3.9.9"
  },
  "orig_nbformat": 4
 },
 "nbformat": 4,
 "nbformat_minor": 2
}
