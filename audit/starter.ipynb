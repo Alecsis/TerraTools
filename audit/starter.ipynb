{
 "cells": [
  {
   "cell_type": "code",
   "execution_count": 3,
   "metadata": {},
   "outputs": [],
   "source": [
    "# We need to rebase python workspace to parent directory\n",
    "import sys\n",
    "import os\n",
    "sys.path.append(os.path.dirname(os.getcwd()))"
   ]
  },
  {
   "cell_type": "code",
   "execution_count": 5,
   "metadata": {},
   "outputs": [],
   "source": [
    "# The SDK wrapper import, with the Contract wrapper, and local terra\n",
    "from terra_sdk_wrapper import Contract, terra, store_contract, send"
   ]
  },
  {
   "cell_type": "code",
   "execution_count": null,
   "metadata": {},
   "outputs": [],
   "source": [
    "deployer = terra.wallets['test1']\n",
    "alice = terra.wallets['test2']\n",
    "bob = terra.wallets['test3']\n",
    "attacker = terra.wallets['test4']"
   ]
  },
  {
   "cell_type": "code",
   "execution_count": 6,
   "metadata": {},
   "outputs": [],
   "source": [
    "#---------------------------- Generated with schema to class :) \n",
    "\n",
    "class Terraswap_token():\n",
    "\n",
    "        def execute_transfer(amount, recipient: str):\n",
    "                return {'transfer': {'amount': amount, 'recipient': recipient}}\n",
    "\n",
    "        def execute_burn(amount):\n",
    "                return {'burn': {'amount': amount}}\n",
    "\n",
    "        def execute_send(amount, contract: str, msg):\n",
    "                return {'send': {'amount': amount, 'contract': contract, 'msg': msg}}\n",
    "\n",
    "        def execute_mint(amount, recipient: str):\n",
    "                return {'mint': {'amount': amount, 'recipient': recipient}}\n",
    "\n",
    "        def execute_increase_allowance(amount, spender: str, expires = None):\n",
    "                return {'increase_allowance': {'amount': amount, 'expires': expires, 'spender': spender}}\n",
    "\n",
    "        def execute_decrease_allowance(amount, spender: str, expires = None):\n",
    "                return {'decrease_allowance': {'amount': amount, 'expires': expires, 'spender': spender}}\n",
    "\n",
    "        def execute_transfer_from(amount, owner: str, recipient: str):\n",
    "                return {'transfer_from': {'amount': amount, 'owner': owner, 'recipient': recipient}}\n",
    "\n",
    "        def execute_send_from(amount, contract: str, msg, owner: str):\n",
    "                return {'send_from': {'amount': amount, 'contract': contract, 'msg': msg, 'owner': owner}}\n",
    "\n",
    "        def execute_burn_from(amount, owner: str):\n",
    "                return {'burn_from': {'amount': amount, 'owner': owner}}\n",
    "\n",
    "        def instantiate(decimals: int, initial_balances: list, name: str, symbol: str, mint = None):\n",
    "                return {'decimals': decimals, 'initial_balances': initial_balances, 'mint': mint, 'name': name, 'symbol': symbol}\n",
    "\n",
    "        def query_balance(address: str):\n",
    "                return {'balance': {'address': address}}\n",
    "\n",
    "        def query_token_info():\n",
    "                return {'token_info': {}}\n",
    "\n",
    "        def query_minter():\n",
    "                return {'minter': {}}\n",
    "\n",
    "        def query_allowance(owner: str, spender: str):\n",
    "                return {'allowance': {'owner': owner, 'spender': spender}}\n",
    "\n",
    "        def query_all_allowances(owner: str, limit: int = None, start_after: str = None):\n",
    "                return {'all_allowances': {'limit': limit, 'owner': owner, 'start_after': start_after}}\n",
    "\n",
    "        def query_all_accounts(limit: int = None, start_after: str = None):\n",
    "                return {'all_accounts': {'limit': limit, 'start_after': start_after}}"
   ]
  },
  {
   "cell_type": "code",
   "execution_count": null,
   "metadata": {},
   "outputs": [],
   "source": [
    "#---------------------------- Store contracts \n",
    "\n",
    "terraswap_token_code_id = store_contract(terra, deployer, 'terraswap_token')"
   ]
  },
  {
   "cell_type": "code",
   "execution_count": 7,
   "metadata": {},
   "outputs": [
    {
     "ename": "NameError",
     "evalue": "name 'alice' is not defined",
     "output_type": "error",
     "traceback": [
      "\u001b[0;31m---------------------------------------------------------------------------\u001b[0m",
      "\u001b[0;31mNameError\u001b[0m                                 Traceback (most recent call last)",
      "\u001b[0;32m/var/folders/my/zmq7pfc56bj7zmlbtg00bpdm0000gn/T/ipykernel_70242/2591389630.py\u001b[0m in \u001b[0;36m<module>\u001b[0;34m\u001b[0m\n\u001b[1;32m      3\u001b[0m \u001b[0mterraswap_token_contract\u001b[0m \u001b[0;34m=\u001b[0m \u001b[0mContract\u001b[0m\u001b[0;34m(\u001b[0m\u001b[0;34m)\u001b[0m\u001b[0;34m\u001b[0m\u001b[0;34m\u001b[0m\u001b[0m\n\u001b[1;32m      4\u001b[0m \u001b[0minstantiate_msg\u001b[0m \u001b[0;34m=\u001b[0m  \u001b[0mTerraswap_token\u001b[0m\u001b[0;34m.\u001b[0m\u001b[0minstantiate\u001b[0m\u001b[0;34m(\u001b[0m\u001b[0;36m6\u001b[0m\u001b[0;34m,\u001b[0m \u001b[0;34m[\u001b[0m\u001b[0;34m]\u001b[0m\u001b[0;34m,\u001b[0m \u001b[0;34m\"anchor\"\u001b[0m\u001b[0;34m,\u001b[0m \u001b[0;34m\"ANC\"\u001b[0m\u001b[0;34m)\u001b[0m\u001b[0;34m\u001b[0m\u001b[0;34m\u001b[0m\u001b[0m\n\u001b[0;32m----> 5\u001b[0;31m \u001b[0mterraswap_token_contract\u001b[0m\u001b[0;34m.\u001b[0m\u001b[0minstantiate\u001b[0m\u001b[0;34m(\u001b[0m\u001b[0malice\u001b[0m\u001b[0;34m,\u001b[0m \u001b[0mterraswap_token_code_id\u001b[0m\u001b[0;34m,\u001b[0m \u001b[0minstantiate_msg\u001b[0m\u001b[0;34m)\u001b[0m\u001b[0;34m\u001b[0m\u001b[0;34m\u001b[0m\u001b[0m\n\u001b[0m",
      "\u001b[0;31mNameError\u001b[0m: name 'alice' is not defined"
     ]
    }
   ],
   "source": [
    "#---------------------------- Instantiate contracts\n",
    "\n",
    "terraswap_token_contract = Contract()\n",
    "instantiate_msg =  Terraswap_token.instantiate(6, [], \"anchor\", \"ANC\", {'minter': deployer.key.acc_address})\n",
    "terraswap_token_contract.instantiate(alice, terraswap_token_code_id, instantiate_msg)"
   ]
  },
  {
   "cell_type": "code",
   "execution_count": null,
   "metadata": {},
   "outputs": [],
   "source": [
    "#---------------------------- Execute and query\n",
    "\n",
    "execute_msg = Terraswap_token.execute_mint(\"1000\", bob.key.acc_address)\n",
    "res = terraswap_token_contract.execute(alice, execute_msg)"
   ]
  },
  {
   "cell_type": "code",
   "execution_count": null,
   "metadata": {},
   "outputs": [],
   "source": [
    "res = terraswap_token_contract.query(alice, Terraswap_token.query_balance(bob.key.acc_address))\n",
    "print(res)"
   ]
  }
 ],
 "metadata": {
  "interpreter": {
   "hash": "b0fa6594d8f4cbf19f97940f81e996739fb7646882a419484c72d19e05852a7e"
  },
  "kernelspec": {
   "display_name": "Python 3.9.9 64-bit",
   "language": "python",
   "name": "python3"
  },
  "language_info": {
   "codemirror_mode": {
    "name": "ipython",
    "version": 3
   },
   "file_extension": ".py",
   "mimetype": "text/x-python",
   "name": "python",
   "nbconvert_exporter": "python",
   "pygments_lexer": "ipython3",
   "version": "3.9.9"
  },
  "orig_nbformat": 4
 },
 "nbformat": 4,
 "nbformat_minor": 2
}
